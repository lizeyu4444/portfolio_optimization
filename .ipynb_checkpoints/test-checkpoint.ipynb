{
 "cells": [
  {
   "cell_type": "code",
   "execution_count": 2,
   "metadata": {},
   "outputs": [],
   "source": [
    "# Append system path if needed\n",
    "import sys\n",
    "sys.path.append('/usr/local/lib/python3.7/site-packages')\n",
    "sys.path.append('/Users/li/Library/Python/3.7/lib/python/site-packages')"
   ]
  },
  {
   "cell_type": "code",
   "execution_count": 3,
   "metadata": {},
   "outputs": [],
   "source": [
    "import pandas as pd\n",
    "from pypfopt import EfficientFrontier\n",
    "from pypfopt import risk_models\n",
    "from pypfopt import expected_returns"
   ]
  },
  {
   "cell_type": "code",
   "execution_count": 10,
   "metadata": {},
   "outputs": [],
   "source": [
    "df = pd.read_csv('stock_prices.csv', parse_dates=True).set_index('date')\n",
    "\n",
    "mu = expected_returns.mean_historical_return(df)\n",
    "S = risk_models.sample_cov(df)"
   ]
  },
  {
   "cell_type": "code",
   "execution_count": 17,
   "metadata": {},
   "outputs": [
    {
     "name": "stdout",
     "output_type": "stream",
     "text": [
      "Expected annual return: 30.5%\n",
      "Annual volatility: 22.2%\n",
      "Sharpe Ratio: 1.28\n"
     ]
    },
    {
     "data": {
      "text/plain": [
       "(0.3047768672819914, 0.22165566922402932, 1.2847714127003216)"
      ]
     },
     "execution_count": 17,
     "metadata": {},
     "output_type": "execute_result"
    }
   ],
   "source": [
    "ef = EfficientFrontier(mu, S)\n",
    "raw_weights = ef.max_sharpe()\n",
    "cleaned_weights = ef.clean_weights()\n",
    "ef.save_weights_to_file('weights.csv')\n",
    "ef.portfolio_performance(verbose=True)"
   ]
  },
  {
   "cell_type": "code",
   "execution_count": 21,
   "metadata": {},
   "outputs": [
    {
     "data": {
      "text/plain": [
       "['GOOG',\n",
       " 'AAPL',\n",
       " 'FB',\n",
       " 'BABA',\n",
       " 'AMZN',\n",
       " 'GE',\n",
       " 'AMD',\n",
       " 'WMT',\n",
       " 'BAC',\n",
       " 'GM',\n",
       " 'T',\n",
       " 'UAA',\n",
       " 'SHLD',\n",
       " 'XOM',\n",
       " 'RRC',\n",
       " 'BBY',\n",
       " 'MA',\n",
       " 'PFE',\n",
       " 'JPM',\n",
       " 'SBUX']"
      ]
     },
     "execution_count": 21,
     "metadata": {},
     "output_type": "execute_result"
    }
   ],
   "source": [
    "ef.tickers"
   ]
  },
  {
   "cell_type": "code",
   "execution_count": null,
   "metadata": {},
   "outputs": [],
   "source": []
  }
 ],
 "metadata": {
  "kernelspec": {
   "display_name": "Python 3",
   "language": "python",
   "name": "python3"
  },
  "language_info": {
   "codemirror_mode": {
    "name": "ipython",
    "version": 3
   },
   "file_extension": ".py",
   "mimetype": "text/x-python",
   "name": "python",
   "nbconvert_exporter": "python",
   "pygments_lexer": "ipython3",
   "version": "3.7.7"
  }
 },
 "nbformat": 4,
 "nbformat_minor": 4
}
